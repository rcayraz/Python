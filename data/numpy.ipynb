{
 "cells": [
  {
   "cell_type": "code",
   "execution_count": 1,
   "metadata": {},
   "outputs": [],
   "source": [
    "import numpy as np"
   ]
  },
  {
   "cell_type": "code",
   "execution_count": 3,
   "metadata": {},
   "outputs": [
    {
     "name": "stdout",
     "output_type": "stream",
     "text": [
      "[[1 2 3]\n",
      " [4 5 6]\n",
      " [7 8 9]]\n"
     ]
    }
   ],
   "source": [
    "array=np.array([[1,2,3],[4,5,6],[7,8,9]])\n",
    "print(array)"
   ]
  },
  {
   "cell_type": "code",
   "execution_count": 3,
   "metadata": {},
   "outputs": [
    {
     "name": "stdout",
     "output_type": "stream",
     "text": [
      "la suma de matrices es :[[ 6  8]\n",
      " [10 12]]\n"
     ]
    }
   ],
   "source": [
    "##suma de matrices\n",
    "A=np.array([[1,2],[3,4]])\n",
    "B=np.array([[5,6],[7,8]])\n",
    "SUMA=A+B\n",
    "print(f'la suma de matrices es :{SUMA}')\n",
    "\n"
   ]
  },
  {
   "cell_type": "code",
   "execution_count": 4,
   "metadata": {},
   "outputs": [
    {
     "name": "stdout",
     "output_type": "stream",
     "text": [
      "result in prod  [[19 22]\n",
      " [43 50]]\n"
     ]
    }
   ],
   "source": [
    "producto=np.dot(A,B)\n",
    "print('result in prod ',producto)"
   ]
  },
  {
   "cell_type": "code",
   "execution_count": 6,
   "metadata": {},
   "outputs": [
    {
     "name": "stdout",
     "output_type": "stream",
     "text": [
      "determinandte de A es :  -2.0000000000000004\n",
      "determinandte de A es :  -2.000000000000005\n"
     ]
    }
   ],
   "source": [
    "determinante_A=np.linalg.det(A)\n",
    "print('determinandte de A es : ',determinante_A)\n",
    "determinante_B=np.linalg.det(B)\n",
    "print('determinandte de A es : ',determinante_B)"
   ]
  },
  {
   "cell_type": "code",
   "execution_count": 7,
   "metadata": {},
   "outputs": [
    {
     "name": "stdout",
     "output_type": "stream",
     "text": [
      "inversa de a  [[-2.   1. ]\n",
      " [ 1.5 -0.5]]\n",
      "inversa de b  [[-4.   3. ]\n",
      " [ 3.5 -2.5]]\n"
     ]
    }
   ],
   "source": [
    "\n",
    "inversa_a=np.linalg.inv(A)\n",
    "inversa_b=np.linalg.inv(B)\n",
    "\n",
    "print('inversa de a ',inversa_a)\n",
    "print('inversa de b ',inversa_b)"
   ]
  },
  {
   "cell_type": "code",
   "execution_count": 8,
   "metadata": {},
   "outputs": [
    {
     "name": "stdout",
     "output_type": "stream",
     "text": [
      "Valores propios de A:\n",
      " [-0.37228132  5.37228132]\n",
      "Vectores propios de A:\n",
      " [[-0.82456484 -0.41597356]\n",
      " [ 0.56576746 -0.90937671]]\n"
     ]
    }
   ],
   "source": [
    "valores_propios, vectores_propios = np.linalg.eig(A)\n",
    "print(\"Valores propios de A:\\n\", valores_propios)\n",
    "print(\"Vectores propios de A:\\n\", vectores_propios)"
   ]
  },
  {
   "cell_type": "code",
   "execution_count": 9,
   "metadata": {},
   "outputs": [
    {
     "name": "stdout",
     "output_type": "stream",
     "text": [
      "Solución del sistema AX = B:\n",
      " [0.  0.5]\n"
     ]
    }
   ],
   "source": [
    "B = np.array([1, 2])\n",
    "X = np.linalg.solve(A, B)\n",
    "print(\"Solución del sistema AX = B:\\n\", X)\n"
   ]
  },
  {
   "cell_type": "markdown",
   "metadata": {},
   "source": [
    "INDEX AND SLICING"
   ]
  },
  {
   "cell_type": "code",
   "execution_count": 12,
   "metadata": {},
   "outputs": [
    {
     "name": "stdout",
     "output_type": "stream",
     "text": [
      "[False False  True  True  True  True  True  True  True  True  True  True\n",
      "  True  True  True  True  True  True  True  True  True  True  True  True\n",
      "  True  True  True  True  True  True  True  True  True  True  True  True\n",
      "  True  True  True  True  True  True  True  True  True  True  True  True\n",
      "  True  True  True  True  True  True  True  True  True  True  True  True\n",
      "  True  True  True  True  True  True  True  True  True  True  True  True\n",
      "  True  True  True  True  True  True  True  True  True  True  True  True\n",
      "  True  True  True  True  True  True  True  True  True  True  True  True\n",
      "  True  True  True  True  True  True  True  True  True  True  True  True\n",
      "  True  True  True  True  True  True  True  True  True  True  True  True]\n"
     ]
    }
   ],
   "source": [
    "\n",
    "array = np.arange(10, 1210, 10)\n",
    "bol_idx=array>25\n",
    "print(bol_idx)"
   ]
  },
  {
   "cell_type": "code",
   "execution_count": 13,
   "metadata": {},
   "outputs": [
    {
     "name": "stdout",
     "output_type": "stream",
     "text": [
      "[ 20  30  40  50  60  70  80  90 100]\n"
     ]
    }
   ],
   "source": [
    "index=[1,2,3,4,5,6,7,8,9]\n",
    "print(array[index])"
   ]
  },
  {
   "cell_type": "code",
   "execution_count": 15,
   "metadata": {},
   "outputs": [
    {
     "name": "stdout",
     "output_type": "stream",
     "text": [
      "[[6 8 1]\n",
      " [3 5 3]\n",
      " [8 6 7]]\n",
      "8\n"
     ]
    }
   ],
   "source": [
    "array=np.random.randint(1,10,size=(3,3))\n",
    "print(array)\n",
    "print(array[0,1])"
   ]
  },
  {
   "cell_type": "code",
   "execution_count": 16,
   "metadata": {},
   "outputs": [
    {
     "name": "stdout",
     "output_type": "stream",
     "text": [
      "[[6 8]\n",
      " [3 5]]\n"
     ]
    }
   ],
   "source": [
    "print(array[:2,:2])"
   ]
  },
  {
   "cell_type": "markdown",
   "metadata": {},
   "source": [
    "BROADCASTING"
   ]
  },
  {
   "cell_type": "code",
   "execution_count": 24,
   "metadata": {},
   "outputs": [
    {
     "name": "stdout",
     "output_type": "stream",
     "text": [
      "[ 90. 180. 270.]\n"
     ]
    }
   ],
   "source": [
    "prices=np.array([100,200,300])\n",
    "discount=np.array([0.9])\n",
    "discount_prices=prices * discount\n",
    "print(discount_prices)"
   ]
  },
  {
   "cell_type": "code",
   "execution_count": 26,
   "metadata": {},
   "outputs": [
    {
     "name": "stdout",
     "output_type": "stream",
     "text": [
      "[[206 304 431]\n",
      " [203 460 341]\n",
      " [184 489 399]]\n",
      "[[216 324 461]\n",
      " [213 480 371]\n",
      " [194 509 429]]\n"
     ]
    }
   ],
   "source": [
    "prices=np.random.randint(100,500 , size=(3,3))\n",
    "discount=np.array([10,20,30])\n",
    "discount_price=prices + discount\n",
    "print(prices)\n",
    "print(discount_price)\n"
   ]
  },
  {
   "cell_type": "code",
   "execution_count": 35,
   "metadata": {},
   "outputs": [
    {
     "name": "stdout",
     "output_type": "stream",
     "text": [
      "True\n",
      "True\n"
     ]
    }
   ],
   "source": [
    "array=np.array([1,2,3,4,5,6,7,8,9])\n",
    "print(np.all(array>0))\n",
    "print(np.any(array<10))"
   ]
  },
  {
   "cell_type": "code",
   "execution_count": 36,
   "metadata": {},
   "outputs": [
    {
     "name": "stdout",
     "output_type": "stream",
     "text": [
      "[ 1  2  3  4  5  6  7  8  9 10]\n"
     ]
    }
   ],
   "source": [
    "a = np.array([1, 2, 3, 4, 5])\n",
    "b = np.array([6, 7, 8, 9, 10])\n",
    "result = np.concatenate((a, b))\n",
    "print(result)"
   ]
  },
  {
   "cell_type": "code",
   "execution_count": 38,
   "metadata": {},
   "outputs": [
    {
     "name": "stdout",
     "output_type": "stream",
     "text": [
      "Vertical Stack:\n",
      "[[1 2 3]\n",
      " [4 5 6]]\n",
      "Horizontal Stack:\n",
      "[1 2 3 4 5 6]\n"
     ]
    }
   ],
   "source": [
    "# Define two arrays\n",
    "array1 = np.array([1, 2, 3])\n",
    "array2 = np.array([4, 5, 6])\n",
    "\n",
    "# Use vstack to vertically stack the arrays\n",
    "vertical_stack = np.vstack((array1, array2))\n",
    "print(\"Vertical Stack:\")\n",
    "print(vertical_stack)\n",
    "\n",
    "# Use hstack to horizontally stack the arrays\n",
    "horizontal_stack = np.hstack((array1, array2))\n",
    "print(\"Horizontal Stack:\")\n",
    "print(horizontal_stack)"
   ]
  },
  {
   "cell_type": "code",
   "execution_count": 39,
   "metadata": {},
   "outputs": [
    {
     "name": "stdout",
     "output_type": "stream",
     "text": [
      "Array using arange:\n",
      "[ 1  2  3  4  5  6  7  8  9 10]\n",
      "Array using split:\n",
      "[array([1, 2, 3, 4, 5]), array([ 6,  7,  8,  9, 10])]\n"
     ]
    }
   ],
   "source": [
    "import numpy as np\n",
    "\n",
    "# Create an array using arange for values 1 to 10\n",
    "array_arange = np.arange(1, 11)\n",
    "print(\"Array using arange:\")\n",
    "print(array_arange)\n",
    "\n",
    "# Create another array using split\n",
    "array_split = np.split(array_arange, 2)\n",
    "print(\"Array using split:\")\n",
    "print(array_split)"
   ]
  },
  {
   "cell_type": "code",
   "execution_count": 40,
   "metadata": {},
   "outputs": [
    {
     "name": "stdout",
     "output_type": "stream",
     "text": [
      "['excellent' 'fail' 'good']\n",
      "[1 1 3]\n"
     ]
    }
   ],
   "source": [
    "#items unique and counts\n",
    "survey_responses = np.array(['good', 'good', 'good', 'fail', 'excellent'])\n",
    "unique_elements,counts=np.unique(survey_responses,return_counts=True)\n",
    "print(unique_elements)\n",
    "print(counts)"
   ]
  },
  {
   "cell_type": "code",
   "execution_count": 69,
   "metadata": {},
   "outputs": [
    {
     "name": "stdout",
     "output_type": "stream",
     "text": [
      "[1 2 3 4 5 6 7 8 9]\n",
      "[9 8 3 4 5 6 7 2 1]\n"
     ]
    }
   ],
   "source": [
    "# Swap the first and last elements in the array\n",
    "print(array)\n",
    "array[0], array[-1] = array[-1], array[0]\n",
    "\n",
    "# Swap the second and second-to-last elements in the array\n",
    "array[1], array[-2] = array[-2], array[1]\n",
    "\n",
    "# Print the modified array\n",
    "print(array)"
   ]
  }
 ],
 "metadata": {
  "kernelspec": {
   "display_name": "Python 3",
   "language": "python",
   "name": "python3"
  },
  "language_info": {
   "codemirror_mode": {
    "name": "ipython",
    "version": 3
   },
   "file_extension": ".py",
   "mimetype": "text/x-python",
   "name": "python",
   "nbconvert_exporter": "python",
   "pygments_lexer": "ipython3",
   "version": "3.12.1"
  }
 },
 "nbformat": 4,
 "nbformat_minor": 2
}
