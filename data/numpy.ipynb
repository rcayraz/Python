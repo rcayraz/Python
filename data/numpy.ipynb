{
 "cells": [
  {
   "cell_type": "code",
   "execution_count": 1,
   "metadata": {},
   "outputs": [],
   "source": [
    "import numpy as np"
   ]
  },
  {
   "cell_type": "code",
   "execution_count": 3,
   "metadata": {},
   "outputs": [
    {
     "name": "stdout",
     "output_type": "stream",
     "text": [
      "[[1 2 3]\n",
      " [4 5 6]\n",
      " [7 8 9]]\n"
     ]
    }
   ],
   "source": [
    "array=np.array([[1,2,3],[4,5,6],[7,8,9]])\n",
    "print(array)"
   ]
  },
  {
   "cell_type": "code",
   "execution_count": 3,
   "metadata": {},
   "outputs": [
    {
     "name": "stdout",
     "output_type": "stream",
     "text": [
      "la suma de matrices es :[[ 6  8]\n",
      " [10 12]]\n"
     ]
    }
   ],
   "source": [
    "##suma de matrices\n",
    "A=np.array([[1,2],[3,4]])\n",
    "B=np.array([[5,6],[7,8]])\n",
    "SUMA=A+B\n",
    "print(f'la suma de matrices es :{SUMA}')\n",
    "\n"
   ]
  },
  {
   "cell_type": "code",
   "execution_count": 4,
   "metadata": {},
   "outputs": [
    {
     "name": "stdout",
     "output_type": "stream",
     "text": [
      "result in prod  [[19 22]\n",
      " [43 50]]\n"
     ]
    }
   ],
   "source": [
    "producto=np.dot(A,B)\n",
    "print('result in prod ',producto)"
   ]
  },
  {
   "cell_type": "code",
   "execution_count": 6,
   "metadata": {},
   "outputs": [
    {
     "name": "stdout",
     "output_type": "stream",
     "text": [
      "determinandte de A es :  -2.0000000000000004\n",
      "determinandte de A es :  -2.000000000000005\n"
     ]
    }
   ],
   "source": [
    "determinante_A=np.linalg.det(A)\n",
    "print('determinandte de A es : ',determinante_A)\n",
    "determinante_B=np.linalg.det(B)\n",
    "print('determinandte de A es : ',determinante_B)"
   ]
  },
  {
   "cell_type": "code",
   "execution_count": 7,
   "metadata": {},
   "outputs": [
    {
     "name": "stdout",
     "output_type": "stream",
     "text": [
      "inversa de a  [[-2.   1. ]\n",
      " [ 1.5 -0.5]]\n",
      "inversa de b  [[-4.   3. ]\n",
      " [ 3.5 -2.5]]\n"
     ]
    }
   ],
   "source": [
    "\n",
    "inversa_a=np.linalg.inv(A)\n",
    "inversa_b=np.linalg.inv(B)\n",
    "\n",
    "print('inversa de a ',inversa_a)\n",
    "print('inversa de b ',inversa_b)"
   ]
  },
  {
   "cell_type": "code",
   "execution_count": 8,
   "metadata": {},
   "outputs": [
    {
     "name": "stdout",
     "output_type": "stream",
     "text": [
      "Valores propios de A:\n",
      " [-0.37228132  5.37228132]\n",
      "Vectores propios de A:\n",
      " [[-0.82456484 -0.41597356]\n",
      " [ 0.56576746 -0.90937671]]\n"
     ]
    }
   ],
   "source": [
    "valores_propios, vectores_propios = np.linalg.eig(A)\n",
    "print(\"Valores propios de A:\\n\", valores_propios)\n",
    "print(\"Vectores propios de A:\\n\", vectores_propios)"
   ]
  },
  {
   "cell_type": "code",
   "execution_count": 9,
   "metadata": {},
   "outputs": [
    {
     "name": "stdout",
     "output_type": "stream",
     "text": [
      "Solución del sistema AX = B:\n",
      " [0.  0.5]\n"
     ]
    }
   ],
   "source": [
    "B = np.array([1, 2])\n",
    "X = np.linalg.solve(A, B)\n",
    "print(\"Solución del sistema AX = B:\\n\", X)\n"
   ]
  },
  {
   "cell_type": "markdown",
   "metadata": {},
   "source": [
    "INDEX AND SLICING"
   ]
  },
  {
   "cell_type": "code",
   "execution_count": 12,
   "metadata": {},
   "outputs": [
    {
     "name": "stdout",
     "output_type": "stream",
     "text": [
      "[False False  True  True  True  True  True  True  True  True  True  True\n",
      "  True  True  True  True  True  True  True  True  True  True  True  True\n",
      "  True  True  True  True  True  True  True  True  True  True  True  True\n",
      "  True  True  True  True  True  True  True  True  True  True  True  True\n",
      "  True  True  True  True  True  True  True  True  True  True  True  True\n",
      "  True  True  True  True  True  True  True  True  True  True  True  True\n",
      "  True  True  True  True  True  True  True  True  True  True  True  True\n",
      "  True  True  True  True  True  True  True  True  True  True  True  True\n",
      "  True  True  True  True  True  True  True  True  True  True  True  True\n",
      "  True  True  True  True  True  True  True  True  True  True  True  True]\n"
     ]
    }
   ],
   "source": [
    "\n",
    "array = np.arange(10, 1210, 10)\n",
    "bol_idx=array>25\n",
    "print(bol_idx)"
   ]
  },
  {
   "cell_type": "code",
   "execution_count": 13,
   "metadata": {},
   "outputs": [
    {
     "name": "stdout",
     "output_type": "stream",
     "text": [
      "[ 20  30  40  50  60  70  80  90 100]\n"
     ]
    }
   ],
   "source": [
    "index=[1,2,3,4,5,6,7,8,9]\n",
    "print(array[index])"
   ]
  },
  {
   "cell_type": "code",
   "execution_count": 15,
   "metadata": {},
   "outputs": [
    {
     "name": "stdout",
     "output_type": "stream",
     "text": [
      "[[6 8 1]\n",
      " [3 5 3]\n",
      " [8 6 7]]\n",
      "8\n"
     ]
    }
   ],
   "source": [
    "array=np.random.randint(1,10,size=(3,3))\n",
    "print(array)\n",
    "print(array[0,1])"
   ]
  },
  {
   "cell_type": "code",
   "execution_count": 16,
   "metadata": {},
   "outputs": [
    {
     "name": "stdout",
     "output_type": "stream",
     "text": [
      "[[6 8]\n",
      " [3 5]]\n"
     ]
    }
   ],
   "source": [
    "print(array[:2,:2])"
   ]
  },
  {
   "cell_type": "markdown",
   "metadata": {},
   "source": [
    "BROADCASTING"
   ]
  },
  {
   "cell_type": "code",
   "execution_count": 24,
   "metadata": {},
   "outputs": [
    {
     "name": "stdout",
     "output_type": "stream",
     "text": [
      "[ 90. 180. 270.]\n"
     ]
    }
   ],
   "source": [
    "prices=np.array([100,200,300])\n",
    "discount=np.array([0.9])\n",
    "discount_prices=prices * discount\n",
    "print(discount_prices)"
   ]
  },
  {
   "cell_type": "code",
   "execution_count": 26,
   "metadata": {},
   "outputs": [
    {
     "name": "stdout",
     "output_type": "stream",
     "text": [
      "[[206 304 431]\n",
      " [203 460 341]\n",
      " [184 489 399]]\n",
      "[[216 324 461]\n",
      " [213 480 371]\n",
      " [194 509 429]]\n"
     ]
    }
   ],
   "source": [
    "prices=np.random.randint(100,500 , size=(3,3))\n",
    "discount=np.array([10,20,30])\n",
    "discount_price=prices + discount\n",
    "print(prices)\n",
    "print(discount_price)\n"
   ]
  },
  {
   "cell_type": "code",
   "execution_count": 35,
   "metadata": {},
   "outputs": [
    {
     "name": "stdout",
     "output_type": "stream",
     "text": [
      "True\n",
      "True\n"
     ]
    }
   ],
   "source": [
    "array=np.array([1,2,3,4,5,6,7,8,9])\n",
    "print(np.all(array>0))\n",
    "print(np.any(array<10))"
   ]
  },
  {
   "cell_type": "code",
   "execution_count": 36,
   "metadata": {},
   "outputs": [
    {
     "name": "stdout",
     "output_type": "stream",
     "text": [
      "[ 1  2  3  4  5  6  7  8  9 10]\n"
     ]
    }
   ],
   "source": [
    "a = np.array([1, 2, 3, 4, 5])\n",
    "b = np.array([6, 7, 8, 9, 10])\n",
    "result = np.concatenate((a, b))\n",
    "print(result)"
   ]
  },
  {
   "cell_type": "code",
   "execution_count": 38,
   "metadata": {},
   "outputs": [
    {
     "name": "stdout",
     "output_type": "stream",
     "text": [
      "Vertical Stack:\n",
      "[[1 2 3]\n",
      " [4 5 6]]\n",
      "Horizontal Stack:\n",
      "[1 2 3 4 5 6]\n"
     ]
    }
   ],
   "source": [
    "# Define two arrays\n",
    "array1 = np.array([1, 2, 3])\n",
    "array2 = np.array([4, 5, 6])\n",
    "\n",
    "# Use vstack to vertically stack the arrays\n",
    "vertical_stack = np.vstack((array1, array2))\n",
    "print(\"Vertical Stack:\")\n",
    "print(vertical_stack)\n",
    "\n",
    "# Use hstack to horizontally stack the arrays\n",
    "horizontal_stack = np.hstack((array1, array2))\n",
    "print(\"Horizontal Stack:\")\n",
    "print(horizontal_stack)"
   ]
  },
  {
   "cell_type": "code",
   "execution_count": 39,
   "metadata": {},
   "outputs": [
    {
     "name": "stdout",
     "output_type": "stream",
     "text": [
      "Array using arange:\n",
      "[ 1  2  3  4  5  6  7  8  9 10]\n",
      "Array using split:\n",
      "[array([1, 2, 3, 4, 5]), array([ 6,  7,  8,  9, 10])]\n"
     ]
    }
   ],
   "source": [
    "import numpy as np\n",
    "\n",
    "# Create an array using arange for values 1 to 10\n",
    "array_arange = np.arange(1, 11)\n",
    "print(\"Array using arange:\")\n",
    "print(array_arange)\n",
    "\n",
    "# Create another array using split\n",
    "array_split = np.split(array_arange, 2)\n",
    "print(\"Array using split:\")\n",
    "print(array_split)"
   ]
  },
  {
   "cell_type": "code",
   "execution_count": 40,
   "metadata": {},
   "outputs": [
    {
     "name": "stdout",
     "output_type": "stream",
     "text": [
      "['excellent' 'fail' 'good']\n",
      "[1 1 3]\n"
     ]
    }
   ],
   "source": [
    "#items unique and counts\n",
    "survey_responses = np.array(['good', 'good', 'good', 'fail', 'excellent'])\n",
    "unique_elements,counts=np.unique(survey_responses,return_counts=True)\n",
    "print(unique_elements)\n",
    "print(counts)"
   ]
  },
  {
   "cell_type": "code",
   "execution_count": 69,
   "metadata": {},
   "outputs": [
    {
     "name": "stdout",
     "output_type": "stream",
     "text": [
      "[1 2 3 4 5 6 7 8 9]\n",
      "[9 8 3 4 5 6 7 2 1]\n"
     ]
    }
   ],
   "source": [
    "# Swap the first and last elements in the array\n",
    "print(array)\n",
    "array[0], array[-1] = array[-1], array[0]\n",
    "\n",
    "# Swap the second and second-to-last elements in the array\n",
    "array[1], array[-2] = array[-2], array[1]\n",
    "\n",
    "# Print the modified array\n",
    "print(array)"
   ]
  },
  {
   "cell_type": "markdown",
   "metadata": {},
   "source": [
    "reshape and transoformation "
   ]
  },
  {
   "cell_type": "code",
   "execution_count": 3,
   "metadata": {},
   "outputs": [
    {
     "name": "stdout",
     "output_type": "stream",
     "text": [
      "Reshaped Array 1:\n",
      "[[1 2 3]\n",
      " [4 5 6]]\n",
      "Reshaped Array 2:\n",
      "[1 2 3 4 5 6]\n",
      "Reshaped Array 3:\n",
      "[[[1 2 3]]\n",
      "\n",
      " [[4 5 6]]]\n",
      "Reshaped Array 4:\n",
      "[[ 1  2  3  4  5  6]\n",
      " [ 7  8  9 10 11 12]]\n"
     ]
    }
   ],
   "source": [
    "import numpy as np\n",
    "# Case 1: Reshape a 1D array to a 2D array\n",
    "array1 = np.array([1, 2, 3, 4, 5, 6])\n",
    "reshaped_array1 = array1.reshape(2, 3)\n",
    "print(\"Reshaped Array 1:\")\n",
    "print(reshaped_array1)\n",
    "\n",
    "# Case 2: Reshape a 2D array to a 1D array\n",
    "array2 = np.array([[1, 2, 3], [4, 5, 6]])\n",
    "reshaped_array2 = array2.reshape(-1)\n",
    "print(\"Reshaped Array 2:\")\n",
    "print(reshaped_array2)\n",
    "\n",
    "# Case 3: Reshape a 2D array to a 3D array\n",
    "array3 = np.array([[1, 2, 3], [4, 5, 6]])\n",
    "reshaped_array3 = array3.reshape(2, 1, 3)\n",
    "print(\"Reshaped Array 3:\")\n",
    "print(reshaped_array3)\n",
    "\n",
    "# Case 4: Reshape a 3D array to a 2D array\n",
    "array4 = np.array([[[1, 2, 3], [4, 5, 6]], [[7, 8, 9], [10, 11, 12]]])\n",
    "reshaped_array4 = array4.reshape(2, 6)\n",
    "print(\"Reshaped Array 4:\")\n",
    "print(reshaped_array4)"
   ]
  },
  {
   "cell_type": "markdown",
   "metadata": {},
   "source": [
    "CASE PRACTICE"
   ]
  },
  {
   "cell_type": "code",
   "execution_count": 5,
   "metadata": {},
   "outputs": [
    {
     "name": "stdout",
     "output_type": "stream",
     "text": [
      "Name: array1\n",
      "Type: numpy.ndarray\n",
      "Value: [1 2 3 4 5 6]\n",
      "\n",
      "Name: array2\n",
      "Type: numpy.ndarray\n",
      "Value: [[1 2 3]\n",
      " [4 5 6]]\n",
      "\n",
      "Name: array3\n",
      "Type: numpy.ndarray\n",
      "Value: [[1 2 3]\n",
      " [4 5 6]]\n",
      "\n",
      "Name: array4\n",
      "Type: numpy.ndarray\n",
      "Value: [[[ 1  2  3]\n",
      "  [ 4  5  6]]\n",
      "\n",
      " [[ 7  8  9]\n",
      "  [10 11 12]]]\n",
      "\n",
      "Name: average_sales\n",
      "Type: numpy.ndarray\n",
      "Value: [176.66666667 210.         240.         270.         256.66666667\n",
      " 256.66666667 246.66666667 260.         286.66666667 303.33333333\n",
      " 330.         350.        ]\n",
      "\n",
      "Name: max_sales_month\n",
      "Type: numpy.str_\n",
      "Value: Diciembre\n",
      "\n",
      "Name: max_ventas_A\n",
      "Type: numpy.int64\n",
      "Value: 300\n",
      "\n",
      "Name: max_ventas_B\n",
      "Type: numpy.int64\n",
      "Value: 330\n",
      "\n",
      "Name: max_ventas_C\n",
      "Type: numpy.int64\n",
      "Value: 420\n",
      "\n",
      "Name: mean_ventas_A\n",
      "Type: numpy.float64\n",
      "Value: 229.16666666666666\n",
      "\n",
      "Name: mean_ventas_B\n",
      "Type: numpy.float64\n",
      "Value: 257.5\n",
      "\n",
      "Name: mean_ventas_C\n",
      "Type: numpy.float64\n",
      "Value: 310.0\n",
      "\n",
      "Name: meses\n",
      "Type: numpy.ndarray\n",
      "Value: ['Enero' 'Febrero' 'Marzo' 'Abril' 'Mayo' 'Junio' 'Julio' 'Agosto'\n",
      " 'Septiembre' 'Octubre' 'Noviembre' 'Diciembre']\n",
      "\n",
      "Name: min_sales_month\n",
      "Type: numpy.str_\n",
      "Value: Enero\n",
      "\n",
      "Name: min_ventas_A\n",
      "Type: numpy.int64\n",
      "Value: 150\n",
      "\n",
      "Name: min_ventas_B\n",
      "Type: numpy.int64\n",
      "Value: 180\n",
      "\n",
      "Name: min_ventas_C\n",
      "Type: numpy.int64\n",
      "Value: 200\n",
      "\n",
      "Name: reshaped_array1\n",
      "Type: numpy.ndarray\n",
      "Value: [[1 2 3]\n",
      " [4 5 6]]\n",
      "\n",
      "Name: reshaped_array2\n",
      "Type: numpy.ndarray\n",
      "Value: [1 2 3 4 5 6]\n",
      "\n",
      "Name: reshaped_array3\n",
      "Type: numpy.ndarray\n",
      "Value: [[[1 2 3]]\n",
      "\n",
      " [[4 5 6]]]\n",
      "\n",
      "Name: reshaped_array4\n",
      "Type: numpy.ndarray\n",
      "Value: [[ 1  2  3  4  5  6]\n",
      " [ 7  8  9 10 11 12]]\n",
      "\n",
      "Name: reshaped_ventas_A\n",
      "Type: numpy.ndarray\n",
      "Value: [[150]\n",
      " [200]\n",
      " [250]\n",
      " [300]\n",
      " [220]\n",
      " [210]\n",
      " [180]\n",
      " [190]\n",
      " [230]\n",
      " [240]\n",
      " [280]\n",
      " [300]]\n",
      "\n",
      "Name: reshaped_ventas_B\n",
      "Type: numpy.ndarray\n",
      "Value: [[180]\n",
      " [210]\n",
      " [230]\n",
      " [250]\n",
      " [270]\n",
      " [260]\n",
      " [240]\n",
      " [250]\n",
      " [270]\n",
      " [290]\n",
      " [310]\n",
      " [330]]\n",
      "\n",
      "Name: reshaped_ventas_C\n",
      "Type: numpy.ndarray\n",
      "Value: [[200]\n",
      " [220]\n",
      " [240]\n",
      " [260]\n",
      " [280]\n",
      " [300]\n",
      " [320]\n",
      " [340]\n",
      " [360]\n",
      " [380]\n",
      " [400]\n",
      " [420]]\n",
      "\n",
      "Name: sum_ventas_A\n",
      "Type: numpy.int64\n",
      "Value: 2750\n",
      "\n",
      "Name: sum_ventas_B\n",
      "Type: numpy.int64\n",
      "Value: 3090\n",
      "\n",
      "Name: sum_ventas_C\n",
      "Type: numpy.int64\n",
      "Value: 3720\n",
      "\n",
      "Name: total_sales\n",
      "Type: numpy.ndarray\n",
      "Value: [ 530  630  720  810  770  770  740  780  860  910  990 1050]\n",
      "\n",
      "Name: transposed_ventas_A\n",
      "Type: numpy.ndarray\n",
      "Value: [150 200 250 300 220 210 180 190 230 240 280 300]\n",
      "\n",
      "Name: transposed_ventas_B\n",
      "Type: numpy.ndarray\n",
      "Value: [180 210 230 250 270 260 240 250 270 290 310 330]\n",
      "\n",
      "Name: transposed_ventas_C\n",
      "Type: numpy.ndarray\n",
      "Value: [200 220 240 260 280 300 320 340 360 380 400 420]\n",
      "\n",
      "Name: unique_ventas_A\n",
      "Type: numpy.ndarray\n",
      "Value: [150 180 190 200 210 220 230 240 250 280 300]\n",
      "\n",
      "Name: unique_ventas_B\n",
      "Type: numpy.ndarray\n",
      "Value: [180 210 230 240 250 260 270 290 310 330]\n",
      "\n",
      "Name: unique_ventas_C\n",
      "Type: numpy.ndarray\n",
      "Value: [200 220 240 260 280 300 320 340 360 380 400 420]\n",
      "\n",
      "Name: ventas_A\n",
      "Type: numpy.ndarray\n",
      "Value: [150 200 250 300 220 210 180 190 230 240 280 300]\n",
      "\n",
      "Name: ventas_B\n",
      "Type: numpy.ndarray\n",
      "Value: [180 210 230 250 270 260 240 250 270 290 310 330]\n",
      "\n",
      "Name: ventas_C\n",
      "Type: numpy.ndarray\n",
      "Value: [200 220 240 260 280 300 320 340 360 380 400 420]\n",
      "\n"
     ]
    }
   ],
   "source": [
    "# Paso 1: Crear arrays con datos de ventas mensuales\n",
    "meses = np.array(['Enero', 'Febrero', 'Marzo', 'Abril', 'Mayo', 'Junio',\n",
    "                  'Julio', 'Agosto', 'Septiembre', 'Octubre', 'Noviembre', 'Diciembre'])\n",
    "ventas_A = np.array([150, 200, 250, 300, 220, 210, 180, 190, 230, 240, 280, 300])\n",
    "ventas_B = np.array([180, 210, 230, 250, 270, 260, 240, 250, 270, 290, 310, 330])\n",
    "ventas_C = np.array([200, 220, 240, 260, 280, 300, 320, 340, 360, 380, 400, 420])\n",
    "\n",
    "# Calculate the total sales for each month\n",
    "total_sales = ventas_A + ventas_B + ventas_C\n",
    "\n",
    "# Calculate the average sales for each month\n",
    "average_sales = (ventas_A + ventas_B + ventas_C) / 3\n",
    "\n",
    "# Find the month with the highest sales\n",
    "max_sales_month = meses[np.argmax(total_sales)]\n",
    "\n",
    "# Find the month with the lowest sales\n",
    "min_sales_month = meses[np.argmin(total_sales)]\n",
    "\n",
    "# Reshape the arrays\n",
    "reshaped_ventas_A = ventas_A.reshape(12, 1)\n",
    "reshaped_ventas_B = ventas_B.reshape(12, 1)\n",
    "reshaped_ventas_C = ventas_C.reshape(12, 1)\n",
    "\n",
    "# Transpose the arrays\n",
    "transposed_ventas_A = ventas_A.T\n",
    "transposed_ventas_B = ventas_B.T\n",
    "transposed_ventas_C = ventas_C.T\n",
    "\n",
    "# Find the unique elements in the arrays\n",
    "unique_ventas_A = np.unique(ventas_A)\n",
    "unique_ventas_B = np.unique(ventas_B)\n",
    "unique_ventas_C = np.unique(ventas_C)\n",
    "\n",
    "# Perform mathematical operations on the arrays\n",
    "sum_ventas_A = np.sum(ventas_A)\n",
    "sum_ventas_B = np.sum(ventas_B)\n",
    "sum_ventas_C = np.sum(ventas_C)\n",
    "\n",
    "mean_ventas_A = np.mean(ventas_A)\n",
    "mean_ventas_B = np.mean(ventas_B)\n",
    "mean_ventas_C = np.mean(ventas_C)\n",
    "\n",
    "max_ventas_A = np.max(ventas_A)\n",
    "max_ventas_B = np.max(ventas_B)\n",
    "max_ventas_C = np.max(ventas_C)\n",
    "\n",
    "min_ventas_A = np.min(ventas_A)\n",
    "min_ventas_B = np.min(ventas_B)\n",
    "min_ventas_C = np.min(ventas_C)\n",
    "print(\"Name: array1\")\n",
    "print(\"Type: numpy.ndarray\")\n",
    "print(\"Value:\", array1)\n",
    "print()\n",
    "\n",
    "print(\"Name: array2\")\n",
    "print(\"Type: numpy.ndarray\")\n",
    "print(\"Value:\", array2)\n",
    "print()\n",
    "\n",
    "print(\"Name: array3\")\n",
    "print(\"Type: numpy.ndarray\")\n",
    "print(\"Value:\", array3)\n",
    "print()\n",
    "\n",
    "print(\"Name: array4\")\n",
    "print(\"Type: numpy.ndarray\")\n",
    "print(\"Value:\", array4)\n",
    "print()\n",
    "\n",
    "print(\"Name: average_sales\")\n",
    "print(\"Type: numpy.ndarray\")\n",
    "print(\"Value:\", average_sales)\n",
    "print()\n",
    "\n",
    "print(\"Name: max_sales_month\")\n",
    "print(\"Type: numpy.str_\")\n",
    "print(\"Value:\", max_sales_month)\n",
    "print()\n",
    "\n",
    "print(\"Name: max_ventas_A\")\n",
    "print(\"Type: numpy.int64\")\n",
    "print(\"Value:\", max_ventas_A)\n",
    "print()\n",
    "\n",
    "print(\"Name: max_ventas_B\")\n",
    "print(\"Type: numpy.int64\")\n",
    "print(\"Value:\", max_ventas_B)\n",
    "print()\n",
    "\n",
    "print(\"Name: max_ventas_C\")\n",
    "print(\"Type: numpy.int64\")\n",
    "print(\"Value:\", max_ventas_C)\n",
    "print()\n",
    "\n",
    "print(\"Name: mean_ventas_A\")\n",
    "print(\"Type: numpy.float64\")\n",
    "print(\"Value:\", mean_ventas_A)\n",
    "print()\n",
    "\n",
    "print(\"Name: mean_ventas_B\")\n",
    "print(\"Type: numpy.float64\")\n",
    "print(\"Value:\", mean_ventas_B)\n",
    "print()\n",
    "\n",
    "print(\"Name: mean_ventas_C\")\n",
    "print(\"Type: numpy.float64\")\n",
    "print(\"Value:\", mean_ventas_C)\n",
    "print()\n",
    "\n",
    "print(\"Name: meses\")\n",
    "print(\"Type: numpy.ndarray\")\n",
    "print(\"Value:\", meses)\n",
    "print()\n",
    "\n",
    "print(\"Name: min_sales_month\")\n",
    "print(\"Type: numpy.str_\")\n",
    "print(\"Value:\", min_sales_month)\n",
    "print()\n",
    "\n",
    "print(\"Name: min_ventas_A\")\n",
    "print(\"Type: numpy.int64\")\n",
    "print(\"Value:\", min_ventas_A)\n",
    "print()\n",
    "\n",
    "print(\"Name: min_ventas_B\")\n",
    "print(\"Type: numpy.int64\")\n",
    "print(\"Value:\", min_ventas_B)\n",
    "print()\n",
    "\n",
    "print(\"Name: min_ventas_C\")\n",
    "print(\"Type: numpy.int64\")\n",
    "print(\"Value:\", min_ventas_C)\n",
    "print()\n",
    "\n",
    "print(\"Name: reshaped_array1\")\n",
    "print(\"Type: numpy.ndarray\")\n",
    "print(\"Value:\", reshaped_array1)\n",
    "print()\n",
    "\n",
    "print(\"Name: reshaped_array2\")\n",
    "print(\"Type: numpy.ndarray\")\n",
    "print(\"Value:\", reshaped_array2)\n",
    "print()\n",
    "\n",
    "print(\"Name: reshaped_array3\")\n",
    "print(\"Type: numpy.ndarray\")\n",
    "print(\"Value:\", reshaped_array3)\n",
    "print()\n",
    "\n",
    "print(\"Name: reshaped_array4\")\n",
    "print(\"Type: numpy.ndarray\")\n",
    "print(\"Value:\", reshaped_array4)\n",
    "print()\n",
    "\n",
    "print(\"Name: reshaped_ventas_A\")\n",
    "print(\"Type: numpy.ndarray\")\n",
    "print(\"Value:\", reshaped_ventas_A)\n",
    "print()\n",
    "\n",
    "print(\"Name: reshaped_ventas_B\")\n",
    "print(\"Type: numpy.ndarray\")\n",
    "print(\"Value:\", reshaped_ventas_B)\n",
    "print()\n",
    "\n",
    "print(\"Name: reshaped_ventas_C\")\n",
    "print(\"Type: numpy.ndarray\")\n",
    "print(\"Value:\", reshaped_ventas_C)\n",
    "print()\n",
    "\n",
    "print(\"Name: sum_ventas_A\")\n",
    "print(\"Type: numpy.int64\")\n",
    "print(\"Value:\", sum_ventas_A)\n",
    "print()\n",
    "\n",
    "print(\"Name: sum_ventas_B\")\n",
    "print(\"Type: numpy.int64\")\n",
    "print(\"Value:\", sum_ventas_B)\n",
    "print()\n",
    "\n",
    "print(\"Name: sum_ventas_C\")\n",
    "print(\"Type: numpy.int64\")\n",
    "print(\"Value:\", sum_ventas_C)\n",
    "print()\n",
    "\n",
    "print(\"Name: total_sales\")\n",
    "print(\"Type: numpy.ndarray\")\n",
    "print(\"Value:\", total_sales)\n",
    "print()\n",
    "\n",
    "print(\"Name: transposed_ventas_A\")\n",
    "print(\"Type: numpy.ndarray\")\n",
    "print(\"Value:\", transposed_ventas_A)\n",
    "print()\n",
    "\n",
    "print(\"Name: transposed_ventas_B\")\n",
    "print(\"Type: numpy.ndarray\")\n",
    "print(\"Value:\", transposed_ventas_B)\n",
    "print()\n",
    "\n",
    "print(\"Name: transposed_ventas_C\")\n",
    "print(\"Type: numpy.ndarray\")\n",
    "print(\"Value:\", transposed_ventas_C)\n",
    "print()\n",
    "\n",
    "print(\"Name: unique_ventas_A\")\n",
    "print(\"Type: numpy.ndarray\")\n",
    "print(\"Value:\", unique_ventas_A)\n",
    "print()\n",
    "\n",
    "print(\"Name: unique_ventas_B\")\n",
    "print(\"Type: numpy.ndarray\")\n",
    "print(\"Value:\", unique_ventas_B)\n",
    "print()\n",
    "\n",
    "print(\"Name: unique_ventas_C\")\n",
    "print(\"Type: numpy.ndarray\")\n",
    "print(\"Value:\", unique_ventas_C)\n",
    "print()\n",
    "\n",
    "print(\"Name: ventas_A\")\n",
    "print(\"Type: numpy.ndarray\")\n",
    "print(\"Value:\", ventas_A)\n",
    "print()\n",
    "\n",
    "print(\"Name: ventas_B\")\n",
    "print(\"Type: numpy.ndarray\")\n",
    "print(\"Value:\", ventas_B)\n",
    "print()\n",
    "\n",
    "print(\"Name: ventas_C\")\n",
    "print(\"Type: numpy.ndarray\")\n",
    "print(\"Value:\", ventas_C)\n",
    "print()\n"
   ]
  },
  {
   "cell_type": "code",
   "execution_count": null,
   "metadata": {},
   "outputs": [],
   "source": []
  }
 ],
 "metadata": {
  "kernelspec": {
   "display_name": "Python 3",
   "language": "python",
   "name": "python3"
  },
  "language_info": {
   "codemirror_mode": {
    "name": "ipython",
    "version": 3
   },
   "file_extension": ".py",
   "mimetype": "text/x-python",
   "name": "python",
   "nbconvert_exporter": "python",
   "pygments_lexer": "ipython3",
   "version": "3.12.1"
  }
 },
 "nbformat": 4,
 "nbformat_minor": 2
}
