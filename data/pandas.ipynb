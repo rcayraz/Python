{
 "cells": [
  {
   "cell_type": "code",
   "execution_count": 1,
   "metadata": {},
   "outputs": [],
   "source": [
    "import pandas as pd"
   ]
  },
  {
   "cell_type": "code",
   "execution_count": 2,
   "metadata": {},
   "outputs": [],
   "source": [
    "data=pd.read_csv('/workspaces/Python/data/source/online_retail.csv')"
   ]
  },
  {
   "cell_type": "code",
   "execution_count": 3,
   "metadata": {},
   "outputs": [
    {
     "data": {
      "text/plain": [
       "<bound method DataFrame.count of        InvoiceNo StockCode                          Description  Quantity  \\\n",
       "0         536365    85123A   WHITE HANGING HEART T-LIGHT HOLDER         6   \n",
       "1         536365     71053                  WHITE METAL LANTERN         6   \n",
       "2         536365    84406B       CREAM CUPID HEARTS COAT HANGER         8   \n",
       "3         536365    84029G  KNITTED UNION FLAG HOT WATER BOTTLE         6   \n",
       "4         536365    84029E       RED WOOLLY HOTTIE WHITE HEART.         6   \n",
       "...          ...       ...                                  ...       ...   \n",
       "541904    581587     22613          PACK OF 20 SPACEBOY NAPKINS        12   \n",
       "541905    581587     22899         CHILDREN'S APRON DOLLY GIRL          6   \n",
       "541906    581587     23254        CHILDRENS CUTLERY DOLLY GIRL          4   \n",
       "541907    581587     23255      CHILDRENS CUTLERY CIRCUS PARADE         4   \n",
       "541908    581587     22138        BAKING SET 9 PIECE RETROSPOT          3   \n",
       "\n",
       "                InvoiceDate  UnitPrice  CustomerID         Country  \n",
       "0       2010-12-01 08:26:00       2.55     17850.0  United Kingdom  \n",
       "1       2010-12-01 08:26:00       3.39     17850.0  United Kingdom  \n",
       "2       2010-12-01 08:26:00       2.75     17850.0  United Kingdom  \n",
       "3       2010-12-01 08:26:00       3.39     17850.0  United Kingdom  \n",
       "4       2010-12-01 08:26:00       3.39     17850.0  United Kingdom  \n",
       "...                     ...        ...         ...             ...  \n",
       "541904  2011-12-09 12:50:00       0.85     12680.0          France  \n",
       "541905  2011-12-09 12:50:00       2.10     12680.0          France  \n",
       "541906  2011-12-09 12:50:00       4.15     12680.0          France  \n",
       "541907  2011-12-09 12:50:00       4.15     12680.0          France  \n",
       "541908  2011-12-09 12:50:00       4.95     12680.0          France  \n",
       "\n",
       "[541909 rows x 8 columns]>"
      ]
     },
     "execution_count": 3,
     "metadata": {},
     "output_type": "execute_result"
    }
   ],
   "source": [
    "data.count"
   ]
  },
  {
   "cell_type": "code",
   "execution_count": 6,
   "metadata": {},
   "outputs": [
    {
     "name": "stdout",
     "output_type": "stream",
     "text": [
      "InvoiceNo                                  536365\n",
      "StockCode                                  85123A\n",
      "Description    WHITE HANGING HEART T-LIGHT HOLDER\n",
      "Quantity                                        6\n",
      "InvoiceDate                   2010-12-01 08:26:00\n",
      "UnitPrice                                    2.55\n",
      "CustomerID                                17850.0\n",
      "Country                            United Kingdom\n",
      "Name: 0, dtype: object\n"
     ]
    }
   ],
   "source": [
    "##use iloc and loc\n",
    "\n",
    "first_row=data.iloc[0]\n",
    "print(first_row)"
   ]
  },
  {
   "cell_type": "code",
   "execution_count": 7,
   "metadata": {},
   "outputs": [
    {
     "name": "stdout",
     "output_type": "stream",
     "text": [
      "  InvoiceNo StockCode                        Description  Quantity  \\\n",
      "6    536365     21730  GLASS STAR FROSTED T-LIGHT HOLDER         6   \n",
      "7    536366     22633             HAND WARMER UNION JACK         6   \n",
      "\n",
      "           InvoiceDate  UnitPrice  CustomerID         Country  \n",
      "6  2010-12-01 08:26:00       4.25     17850.0  United Kingdom  \n",
      "7  2010-12-01 08:28:00       1.85     17850.0  United Kingdom  \n"
     ]
    }
   ],
   "source": [
    "first_five_rows=data.iloc[6:8]\n",
    "print(first_five_rows)"
   ]
  },
  {
   "cell_type": "code",
   "execution_count": 15,
   "metadata": {},
   "outputs": [
    {
     "name": "stdout",
     "output_type": "stream",
     "text": [
      "  InvoiceNo StockCode\n",
      "0    536365    85123A\n",
      "1    536365     71053\n",
      "2    536365    84406B\n"
     ]
    }
   ],
   "source": [
    "subset=data.iloc[:3,:2]\n",
    "print(subset)"
   ]
  },
  {
   "cell_type": "code",
   "execution_count": 17,
   "metadata": {},
   "outputs": [
    {
     "name": "stdout",
     "output_type": "stream",
     "text": [
      "InvoiceNo                                   536365\n",
      "StockCode                                   84029G\n",
      "Description    KNITTED UNION FLAG HOT WATER BOTTLE\n",
      "Quantity                                         6\n",
      "InvoiceDate                    2010-12-01 08:26:00\n",
      "UnitPrice                                     3.39\n",
      "CustomerID                                 17850.0\n",
      "Country                             United Kingdom\n",
      "Name: 3, dtype: object\n"
     ]
    }
   ],
   "source": [
    "#use loc\n",
    "\n",
    "row_index_3=data.loc[3]\n",
    "print(row_index_3)"
   ]
  },
  {
   "cell_type": "code",
   "execution_count": 19,
   "metadata": {},
   "outputs": [
    {
     "name": "stdout",
     "output_type": "stream",
     "text": [
      "  InvoiceNo StockCode                          Description  Quantity  \\\n",
      "0    536365    85123A   WHITE HANGING HEART T-LIGHT HOLDER         6   \n",
      "1    536365     71053                  WHITE METAL LANTERN         6   \n",
      "2    536365    84406B       CREAM CUPID HEARTS COAT HANGER         8   \n",
      "3    536365    84029G  KNITTED UNION FLAG HOT WATER BOTTLE         6   \n",
      "4    536365    84029E       RED WOOLLY HOTTIE WHITE HEART.         6   \n",
      "\n",
      "           InvoiceDate  UnitPrice  CustomerID         Country  \n",
      "0  2010-12-01 08:26:00       2.55     17850.0  United Kingdom  \n",
      "1  2010-12-01 08:26:00       3.39     17850.0  United Kingdom  \n",
      "2  2010-12-01 08:26:00       2.75     17850.0  United Kingdom  \n",
      "3  2010-12-01 08:26:00       3.39     17850.0  United Kingdom  \n",
      "4  2010-12-01 08:26:00       3.39     17850.0  United Kingdom  \n"
     ]
    }
   ],
   "source": [
    "row_index_0_to_4=data.loc[0:4]\n",
    "print(row_index_0_to_4)"
   ]
  },
  {
   "cell_type": "code",
   "execution_count": 20,
   "metadata": {},
   "outputs": [
    {
     "name": "stdout",
     "output_type": "stream",
     "text": [
      "0          6\n",
      "1          6\n",
      "2          8\n",
      "3          6\n",
      "4          6\n",
      "          ..\n",
      "541904    12\n",
      "541905     6\n",
      "541906     4\n",
      "541907     4\n",
      "541908     3\n",
      "Name: Quantity, Length: 541909, dtype: int64\n"
     ]
    }
   ],
   "source": [
    "quatity_columns=data.loc[:,'Quantity']\n",
    "print(quatity_columns)"
   ]
  },
  {
   "cell_type": "code",
   "execution_count": 21,
   "metadata": {},
   "outputs": [
    {
     "name": "stdout",
     "output_type": "stream",
     "text": [
      "        Quantity  UnitPrice\n",
      "0              6       2.55\n",
      "1              6       3.39\n",
      "2              8       2.75\n",
      "3              6       3.39\n",
      "4              6       3.39\n",
      "...          ...        ...\n",
      "541904        12       0.85\n",
      "541905         6       2.10\n",
      "541906         4       4.15\n",
      "541907         4       4.15\n",
      "541908         3       4.95\n",
      "\n",
      "[541909 rows x 2 columns]\n"
     ]
    }
   ],
   "source": [
    "quatity_columns_unit_prices=data.loc[:,['Quantity','UnitPrice']]\n",
    "print(quatity_columns_unit_prices)"
   ]
  },
  {
   "cell_type": "markdown",
   "metadata": {},
   "source": [
    "missing data"
   ]
  },
  {
   "cell_type": "code",
   "execution_count": 23,
   "metadata": {},
   "outputs": [
    {
     "name": "stdout",
     "output_type": "stream",
     "text": [
      "   InvoiceNo  StockCode  Description  Quantity  InvoiceDate  UnitPrice  \\\n",
      "0      False      False        False     False        False      False   \n",
      "1      False      False        False     False        False      False   \n",
      "2      False      False        False     False        False      False   \n",
      "3      False      False        False     False        False      False   \n",
      "4      False      False        False     False        False      False   \n",
      "\n",
      "   CustomerID  Country  \n",
      "0       False    False  \n",
      "1       False    False  \n",
      "2       False    False  \n",
      "3       False    False  \n",
      "4       False    False  \n"
     ]
    }
   ],
   "source": [
    "missig_data =data.isnull()\n",
    "print(missig_data.head())"
   ]
  },
  {
   "cell_type": "code",
   "execution_count": 24,
   "metadata": {},
   "outputs": [
    {
     "name": "stdout",
     "output_type": "stream",
     "text": [
      "InvoiceNo           0\n",
      "StockCode           0\n",
      "Description      1454\n",
      "Quantity            0\n",
      "InvoiceDate         0\n",
      "UnitPrice           0\n",
      "CustomerID     135080\n",
      "Country             0\n",
      "dtype: int64\n"
     ]
    }
   ],
   "source": [
    "missing_data_count=data.isnull().sum()\n",
    "print(missing_data_count)"
   ]
  },
  {
   "cell_type": "code",
   "execution_count": 25,
   "metadata": {},
   "outputs": [
    {
     "name": "stdout",
     "output_type": "stream",
     "text": [
      "       InvoiceNo StockCode                          Description  Quantity  \\\n",
      "0         536365    85123A   WHITE HANGING HEART T-LIGHT HOLDER         6   \n",
      "1         536365     71053                  WHITE METAL LANTERN         6   \n",
      "2         536365    84406B       CREAM CUPID HEARTS COAT HANGER         8   \n",
      "3         536365    84029G  KNITTED UNION FLAG HOT WATER BOTTLE         6   \n",
      "4         536365    84029E       RED WOOLLY HOTTIE WHITE HEART.         6   \n",
      "...          ...       ...                                  ...       ...   \n",
      "541904    581587     22613          PACK OF 20 SPACEBOY NAPKINS        12   \n",
      "541905    581587     22899         CHILDREN'S APRON DOLLY GIRL          6   \n",
      "541906    581587     23254        CHILDRENS CUTLERY DOLLY GIRL          4   \n",
      "541907    581587     23255      CHILDRENS CUTLERY CIRCUS PARADE         4   \n",
      "541908    581587     22138        BAKING SET 9 PIECE RETROSPOT          3   \n",
      "\n",
      "                InvoiceDate  UnitPrice  CustomerID         Country  \n",
      "0       2010-12-01 08:26:00       2.55     17850.0  United Kingdom  \n",
      "1       2010-12-01 08:26:00       3.39     17850.0  United Kingdom  \n",
      "2       2010-12-01 08:26:00       2.75     17850.0  United Kingdom  \n",
      "3       2010-12-01 08:26:00       3.39     17850.0  United Kingdom  \n",
      "4       2010-12-01 08:26:00       3.39     17850.0  United Kingdom  \n",
      "...                     ...        ...         ...             ...  \n",
      "541904  2011-12-09 12:50:00       0.85     12680.0          France  \n",
      "541905  2011-12-09 12:50:00       2.10     12680.0          France  \n",
      "541906  2011-12-09 12:50:00       4.15     12680.0          France  \n",
      "541907  2011-12-09 12:50:00       4.15     12680.0          France  \n",
      "541908  2011-12-09 12:50:00       4.95     12680.0          France  \n",
      "\n",
      "[406829 rows x 8 columns]\n"
     ]
    }
   ],
   "source": [
    "no_missing=data.dropna()\n",
    "print(no_missing)"
   ]
  },
  {
   "cell_type": "code",
   "execution_count": 26,
   "metadata": {},
   "outputs": [
    {
     "name": "stdout",
     "output_type": "stream",
     "text": [
      "InvoiceNo      0\n",
      "StockCode      0\n",
      "Description    0\n",
      "Quantity       0\n",
      "InvoiceDate    0\n",
      "UnitPrice      0\n",
      "CustomerID     0\n",
      "Country        0\n",
      "dtype: int64\n"
     ]
    }
   ],
   "source": [
    "print(no_missing.isnull().sum())"
   ]
  },
  {
   "cell_type": "code",
   "execution_count": 27,
   "metadata": {},
   "outputs": [
    {
     "name": "stdout",
     "output_type": "stream",
     "text": [
      "       InvoiceNo StockCode  Quantity          InvoiceDate  UnitPrice  \\\n",
      "0         536365    85123A         6  2010-12-01 08:26:00       2.55   \n",
      "1         536365     71053         6  2010-12-01 08:26:00       3.39   \n",
      "2         536365    84406B         8  2010-12-01 08:26:00       2.75   \n",
      "3         536365    84029G         6  2010-12-01 08:26:00       3.39   \n",
      "4         536365    84029E         6  2010-12-01 08:26:00       3.39   \n",
      "...          ...       ...       ...                  ...        ...   \n",
      "541904    581587     22613        12  2011-12-09 12:50:00       0.85   \n",
      "541905    581587     22899         6  2011-12-09 12:50:00       2.10   \n",
      "541906    581587     23254         4  2011-12-09 12:50:00       4.15   \n",
      "541907    581587     23255         4  2011-12-09 12:50:00       4.15   \n",
      "541908    581587     22138         3  2011-12-09 12:50:00       4.95   \n",
      "\n",
      "               Country  \n",
      "0       United Kingdom  \n",
      "1       United Kingdom  \n",
      "2       United Kingdom  \n",
      "3       United Kingdom  \n",
      "4       United Kingdom  \n",
      "...                ...  \n",
      "541904          France  \n",
      "541905          France  \n",
      "541906          France  \n",
      "541907          France  \n",
      "541908          France  \n",
      "\n",
      "[541909 rows x 6 columns]\n"
     ]
    }
   ],
   "source": [
    "no_missing_columns=data.dropna(axis=1)\n",
    "print(no_missing_columns)"
   ]
  },
  {
   "cell_type": "code",
   "execution_count": 28,
   "metadata": {},
   "outputs": [
    {
     "name": "stdout",
     "output_type": "stream",
     "text": [
      "       InvoiceNo StockCode                          Description  Quantity  \\\n",
      "0         536365    85123A   WHITE HANGING HEART T-LIGHT HOLDER         6   \n",
      "1         536365     71053                  WHITE METAL LANTERN         6   \n",
      "2         536365    84406B       CREAM CUPID HEARTS COAT HANGER         8   \n",
      "3         536365    84029G  KNITTED UNION FLAG HOT WATER BOTTLE         6   \n",
      "4         536365    84029E       RED WOOLLY HOTTIE WHITE HEART.         6   \n",
      "...          ...       ...                                  ...       ...   \n",
      "541904    581587     22613          PACK OF 20 SPACEBOY NAPKINS        12   \n",
      "541905    581587     22899         CHILDREN'S APRON DOLLY GIRL          6   \n",
      "541906    581587     23254        CHILDRENS CUTLERY DOLLY GIRL          4   \n",
      "541907    581587     23255      CHILDRENS CUTLERY CIRCUS PARADE         4   \n",
      "541908    581587     22138        BAKING SET 9 PIECE RETROSPOT          3   \n",
      "\n",
      "                InvoiceDate  UnitPrice  CustomerID         Country  \n",
      "0       2010-12-01 08:26:00       2.55     17850.0  United Kingdom  \n",
      "1       2010-12-01 08:26:00       3.39     17850.0  United Kingdom  \n",
      "2       2010-12-01 08:26:00       2.75     17850.0  United Kingdom  \n",
      "3       2010-12-01 08:26:00       3.39     17850.0  United Kingdom  \n",
      "4       2010-12-01 08:26:00       3.39     17850.0  United Kingdom  \n",
      "...                     ...        ...         ...             ...  \n",
      "541904  2011-12-09 12:50:00       0.85     12680.0          France  \n",
      "541905  2011-12-09 12:50:00       2.10     12680.0          France  \n",
      "541906  2011-12-09 12:50:00       4.15     12680.0          France  \n",
      "541907  2011-12-09 12:50:00       4.15     12680.0          France  \n",
      "541908  2011-12-09 12:50:00       4.95     12680.0          France  \n",
      "\n",
      "[541909 rows x 8 columns]\n"
     ]
    }
   ],
   "source": [
    "data_filter_zeros=data.fillna(0)\n",
    "print(data_filter_zeros)"
   ]
  },
  {
   "cell_type": "code",
   "execution_count": 29,
   "metadata": {},
   "outputs": [
    {
     "name": "stdout",
     "output_type": "stream",
     "text": [
      "0         2.55\n",
      "1         3.39\n",
      "2         2.75\n",
      "3         3.39\n",
      "4         3.39\n",
      "          ... \n",
      "541904    0.85\n",
      "541905    2.10\n",
      "541906    4.15\n",
      "541907    4.15\n",
      "541908    4.95\n",
      "Name: UnitPrice, Length: 541909, dtype: float64\n"
     ]
    }
   ],
   "source": [
    "mean_unir_price=data['UnitPrice'].mean()\n",
    "data_filled_mean=data['UnitPrice'].fillna(mean_unir_price)\n",
    "print(data_filled_mean)"
   ]
  },
  {
   "cell_type": "markdown",
   "metadata": {},
   "source": [
    "Here is a summary of the creations and manipulations performed on the columns using pandas in the Jupyter Notebook:\n",
    "\n",
    "1. Created a new column 'data' by reading a CSV file using the `read_csv()` function.\n",
    "2. Accessed the count of non-null values in each column using the `count()` method.\n",
    "3. Used the `iloc[]` function to retrieve the first row of the dataframe and stored it in the variable 'first_row'.\n",
    "4. Used the `iloc[]` function to retrieve the first five rows of the dataframe and stored it in the variable 'first_five_rows'.\n",
    "5. Created a subset of the dataframe by selecting the first three rows and the first two columns using the `iloc[]` function and stored it in the variable 'subset'.\n",
    "6. Used the `loc[]` function to retrieve the row at index 3 and stored it in the variable 'row_index_3'.\n",
    "7. Used the `loc[]` function to retrieve the rows from index 0 to 4 and stored it in the variable 'row_index_0_to_4'.\n",
    "8. Selected the 'Quantity' column using the `loc[]` function and stored it in the variable 'quantity_columns'.\n",
    "9. Selected the 'Quantity' and 'UnitPrice' columns using the `loc[]` function and stored it in the variable 'quantity_columns_unit_prices'.\n",
    "10. Checked for missing data in the dataframe using the `isnull()` function and stored it in the variable 'missing_data'.\n",
    "11. Calculated the count of missing values in each column using the `isnull().sum()` function and stored it in the variable 'missing_data_count'.\n",
    "12. Dropped rows with missing values using the `dropna()` function and stored the result in the variable 'no_missing'.\n",
    "13. Checked for missing values in the 'no_missing' dataframe using the `isnull().sum()` function.\n",
    "14. Dropped columns with missing values using the `dropna(axis=1)` function and stored the result in the variable 'no_missing_columns'.\n",
    "15. Filled missing values with 0 using the `fillna(0)` function and stored the result in the variable 'data_filter_zeros'.\n",
    "16. Calculated the mean of the 'UnitPrice' column using the `mean()` function and stored it in the variable 'mean_unit_price'.\n",
    "17. Filled missing values in the 'UnitPrice' column with the mean value using the `fillna()` function and stored the result in the variable 'data_filled_mean'.\n",
    "\n",
    "These are the main creations and manipulations performed on the columns in the Jupyter Notebook using pandas."
   ]
  },
  {
   "cell_type": "code",
   "execution_count": null,
   "metadata": {},
   "outputs": [],
   "source": []
  }
 ],
 "metadata": {
  "kernelspec": {
   "display_name": "Python 3",
   "language": "python",
   "name": "python3"
  },
  "language_info": {
   "codemirror_mode": {
    "name": "ipython",
    "version": 3
   },
   "file_extension": ".py",
   "mimetype": "text/x-python",
   "name": "python",
   "nbconvert_exporter": "python",
   "pygments_lexer": "ipython3",
   "version": "3.undefined.undefined"
  }
 },
 "nbformat": 4,
 "nbformat_minor": 2
}
